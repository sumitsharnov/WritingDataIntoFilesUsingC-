{
 "cells": [
  {
   "cell_type": "markdown",
   "metadata": {},
   "source": [
    "# Assignment 2 Variables, Conditions and Functions "
   ]
  },
  {
   "cell_type": "markdown",
   "metadata": {},
   "source": [
    "## Chapter 2"
   ]
  },
  {
   "cell_type": "markdown",
   "metadata": {},
   "source": [
    "### Exercise 2: Write a program that uses input to prompt a user for their name and then welcomes them."
   ]
  },
  {
   "cell_type": "code",
   "execution_count": 5,
   "metadata": {},
   "outputs": [
    {
     "name": "stdout",
     "output_type": "stream",
     "text": [
      "Please enter your name\n",
      "Sumit\n",
      "Hello Sumit\n"
     ]
    }
   ],
   "source": [
    "enterName = input(\"Please enter your name\\n\")\n",
    "print(\"Hello \" + enterName)"
   ]
  },
  {
   "cell_type": "markdown",
   "metadata": {},
   "source": [
    "### Exercise 3: Write a program to prompt the user for hours and rate per hour to compute gross pay."
   ]
  },
  {
   "cell_type": "code",
   "execution_count": 30,
   "metadata": {},
   "outputs": [
    {
     "name": "stdout",
     "output_type": "stream",
     "text": [
      "Please enter the hours\n",
      "15\n",
      "Please enter rate per hour\n",
      "5\n",
      "Your gross pay is 75.0\n"
     ]
    }
   ],
   "source": [
    "enterHours = input(\"Please enter the hours\\n\")\n",
    "enterPay = input(\"Please enter rate per hour\\n\")\n",
    "grossPay = float(enterHours) * float(enterPay)\n",
    "print(\"Your gross pay is\",grossPay)"
   ]
  },
  {
   "cell_type": "markdown",
   "metadata": {},
   "source": [
    "### Exercise 4: Assume that we execute the following assignment statements:"
   ]
  },
  {
   "cell_type": "code",
   "execution_count": 18,
   "metadata": {},
   "outputs": [
    {
     "name": "stdout",
     "output_type": "stream",
     "text": [
      "Value of the expression one is 8\n",
      "\n",
      "Type of the value one is <class 'int'>\n",
      "\n",
      "Value of the expression two is 8.5\n",
      "\n",
      "Type of the value two is <class 'float'>\n",
      "\n",
      "Value of the expression two is 4.0\n",
      "\n",
      "Type of the value two is <class 'float'>\n",
      "\n",
      "Value of the expression two is 11\n",
      "\n",
      "Type of the value two is <class 'int'>\n",
      "\n"
     ]
    }
   ],
   "source": [
    "width =17\n",
    "height =12.0\n",
    "valueOne = width//2\n",
    "print(\"Value of the expression one is \" + str(valueOne) + \"\\n\")\n",
    "print(\"Type of the value one is \" + str(type(valueOne)) + \"\\n\")\n",
    "\n",
    "valueTwo = width/2.0\n",
    "print(\"Value of the expression two is \" + str(valueTwo) + \"\\n\")\n",
    "print(\"Type of the value two is \" + str(type(valueTwo)) + \"\\n\")\n",
    "\n",
    "valueThree = height/3\n",
    "print(\"Value of the expression two is \" + str(valueThree) + \"\\n\")\n",
    "print(\"Type of the value two is \" + str(type(valueThree)) + \"\\n\")\n",
    "\n",
    "valueFour = 1 + 2 * 5\n",
    "print(\"Value of the expression two is \" + str(valueFour) + \"\\n\")\n",
    "print(\"Type of the value two is \" + str(type(valueFour)) + \"\\n\")\n"
   ]
  },
  {
   "cell_type": "markdown",
   "metadata": {},
   "source": [
    "### Exercise 5: Write a program which prompts the user for a Celsius temperature, convert the temperature to Fahrenheit, and print out the\n",
    "### converted temperature."
   ]
  },
  {
   "cell_type": "code",
   "execution_count": 28,
   "metadata": {},
   "outputs": [
    {
     "name": "stdout",
     "output_type": "stream",
     "text": [
      "Please enter tempertaure in Celsius\n",
      "35\n",
      "35'C in Fahrenheit is 95.0\n"
     ]
    }
   ],
   "source": [
    "temperatureInCelsius = input(\"Please enter tempertaure in Celsius\\n\")\n",
    "\n",
    "temperatureInFahrenheit = ((9/5) * float(temperatureInCelsius)) + 32\n",
    "\n",
    "print(str(temperatureInCelsius)+\"'C in Fahrenheit is\", temperatureInFahrenheit)"
   ]
  },
  {
   "cell_type": "markdown",
   "metadata": {},
   "source": [
    "## Chapter 3"
   ]
  },
  {
   "cell_type": "markdown",
   "metadata": {},
   "source": [
    "### Exercise 1: Rewrite your pay computation to give the employee 1.5 times the hourly rate for hours worked above 40 hours."
   ]
  },
  {
   "cell_type": "code",
   "execution_count": 5,
   "metadata": {},
   "outputs": [
    {
     "name": "stdout",
     "output_type": "stream",
     "text": [
      "Please enter the hours\n",
      "41\n",
      "Please enter rate per hour\n",
      "2\n",
      "Your gross pay is 83.0\n"
     ]
    }
   ],
   "source": [
    "enterHours = input(\"Please enter the hours\\n\")\n",
    "enterPay = input(\"Please enter rate per hour\\n\")\n",
    "enterHours = float(enterHours)\n",
    "enterPay = float(enterPay)\n",
    "if enterHours>40:\n",
    "    extraHours = enterHours - 40\n",
    "    grossPay = float(40 * enterPay + (extraHours * enterPay * 1.5))\n",
    "else :\n",
    "    grossPay = float(enterHours * enterPay)\n",
    "    \n",
    "print(\"Your gross pay is\",grossPay)"
   ]
  },
  {
   "cell_type": "markdown",
   "metadata": {},
   "source": [
    "### Exercise 2: Rewrite your pay program using try and except so that your program handles non-numeric input gracefully by printing a message and exiting the program. The following shows two executions of the program:"
   ]
  },
  {
   "cell_type": "code",
   "execution_count": 1,
   "metadata": {},
   "outputs": [
    {
     "name": "stdout",
     "output_type": "stream",
     "text": [
      "Please enter the hours\n",
      "45\n",
      "Please enter rate per hour\n",
      "123\n",
      "Your gross pay is 5842.5\n"
     ]
    }
   ],
   "source": [
    "\n",
    "try:\n",
    "    enterHours = input(\"Please enter the hours\\n\")      \n",
    "    enterHours = float(enterHours)  \n",
    "    enterPay = input(\"Please enter rate per hour\\n\")  \n",
    "    enterPay = float(enterPay)    \n",
    "    if enterHours>40:\n",
    "        extraHours = enterHours - 40\n",
    "        grossPay = float(40 * enterPay + (extraHours * enterPay * 1.5))\n",
    "    else :\n",
    "        grossPay = (enterHours * enterPay)\n",
    "    \n",
    "    print(\"Your gross pay is\",grossPay)\n",
    "except:\n",
    "    print(\"Please enter a numeric value\")\n",
    "    quit()"
   ]
  },
  {
   "cell_type": "markdown",
   "metadata": {},
   "source": [
    "### Exercise 3: Write a program to prompt for a score between 0.0 and 1.0. If the score is out of range, print an error message. If the score is between 0.0 and 1.0, print a grade using the following table:"
   ]
  },
  {
   "cell_type": "code",
   "execution_count": 4,
   "metadata": {},
   "outputs": [
    {
     "name": "stdout",
     "output_type": "stream",
     "text": [
      "Enter Score in between the range 0.0-1.0\n",
      "0.5\n",
      "Fail!!\n"
     ]
    }
   ],
   "source": [
    "score = input(\"Enter Score in between the range 0.0-1.0\\n\")\n",
    "score = float(score)\n",
    "if score<0.0 or score>1.0 :\n",
    "    print(\"Bad Score!!\")\n",
    "    quit();\n",
    "\n",
    "else :\n",
    "    if score>=0.9 :\n",
    "        print(\"Grade is A\")\n",
    "        \n",
    "    elif score>=0.8 :\n",
    "        print(\"Grade is B\")\n",
    "        \n",
    "    elif score>=0.7 :\n",
    "        print(\"Grade is C\")\n",
    "        \n",
    "    elif score>=0.6 :\n",
    "        print(\"Grade is D\")\n",
    "        \n",
    "    elif score<0.6 :\n",
    "        print(\"Fail!!\")"
   ]
  },
  {
   "cell_type": "markdown",
   "metadata": {},
   "source": [
    "## Chapter 4"
   ]
  },
  {
   "cell_type": "markdown",
   "metadata": {},
   "source": [
    "### Exercise 5: What will the following Python program print out? (See textbook page 54)\n",
    "### def fred():\n",
    "###     print(\"Zap\")\n",
    "### def jane():\n",
    "###     print(\"ABC\")"
   ]
  },
  {
   "cell_type": "code",
   "execution_count": null,
   "metadata": {},
   "outputs": [],
   "source": [
    "ABCZapABC"
   ]
  },
  {
   "cell_type": "markdown",
   "metadata": {},
   "source": [
    "### Exercise 6: Rewrite your pay computation with time-and-a-half for over-time and create a function called computepay which takes two parameters (hours and rate)."
   ]
  },
  {
   "cell_type": "code",
   "execution_count": 10,
   "metadata": {},
   "outputs": [
    {
     "name": "stdout",
     "output_type": "stream",
     "text": [
      "Please enter the hours\n",
      "46\n",
      "Please enter rate per hour\n",
      "123\n",
      "Your gross pay is 6027.0\n"
     ]
    }
   ],
   "source": [
    "    \n",
    "    def computePay(hours, rate):\n",
    "        hours  = float(hours)\n",
    "        rate = float(rate)\n",
    "        if hours>40:\n",
    "            extraHours = hours - 40\n",
    "            grossPay = float(40 * rate + (extraHours * rate * 1.5))\n",
    "        else:\n",
    "            grossPay = (hours * rate)       \n",
    "        return grossPay\n",
    "        \n",
    "    try :     \n",
    "        enterHours = input(\"Please enter the hours\\n\")      \n",
    "        enterHours = float(enterHours)  \n",
    "        enterPay = input(\"Please enter rate per hour\\n\")  \n",
    "        enterPay = float(enterPay) \n",
    "        grossPay = computePay(enterHours, enterPay)    \n",
    "        print(\"Your gross pay is\",grossPay)\n",
    "    except:\n",
    "        print(\"Please enter a numeric value\")\n",
    "        quit()\n",
    "\n",
    "\n",
    "    "
   ]
  },
  {
   "cell_type": "markdown",
   "metadata": {},
   "source": [
    "### Exercise 7: Rewrite the grade program from the previous chapter using a function called computegrade that takes a score as its parameter and returns a grade as a string."
   ]
  },
  {
   "cell_type": "code",
   "execution_count": 5,
   "metadata": {},
   "outputs": [
    {
     "name": "stdout",
     "output_type": "stream",
     "text": [
      "Enter Score in between the range 0.0-1.0\n",
      "0.95\n",
      "Grade is A\n"
     ]
    }
   ],
   "source": [
    "def computeGrade(score):\n",
    "    score = float(score)\n",
    "    if score<0.0 or score>1.0 :\n",
    "        print(\"Bad Score!!\")\n",
    "        quit();\n",
    "\n",
    "    else :\n",
    "        if score>=0.9 :\n",
    "            grade = 'A'\n",
    "        \n",
    "        elif score>=0.8 :\n",
    "             grade = 'B'\n",
    "          \n",
    "        elif score>=0.7 :\n",
    "            grade = 'C'\n",
    "        \n",
    "        elif score>=0.6 :\n",
    "            grade = 'D'\n",
    "        \n",
    "        elif score<0.6 :\n",
    "            grade = \"Fail!!\"\n",
    "    return grade\n",
    "\n",
    "score = input(\"Enter Score in between the range 0.0-1.0\\n\")\n",
    "score = float(score)\n",
    "grade = computeGrade(score)\n",
    "length = len(grade)\n",
    "if length<=1:\n",
    "    print(\"Grade is \" + grade)\n",
    "else :\n",
    "    print(\"Fail!!\")\n"
   ]
  },
  {
   "cell_type": "code",
   "execution_count": null,
   "metadata": {},
   "outputs": [],
   "source": []
  },
  {
   "cell_type": "code",
   "execution_count": null,
   "metadata": {},
   "outputs": [],
   "source": []
  }
 ],
 "metadata": {
  "kernelspec": {
   "display_name": "Python 3",
   "language": "python",
   "name": "python3"
  },
  "language_info": {
   "codemirror_mode": {
    "name": "ipython",
    "version": 3
   },
   "file_extension": ".py",
   "mimetype": "text/x-python",
   "name": "python",
   "nbconvert_exporter": "python",
   "pygments_lexer": "ipython3",
   "version": "3.7.3"
  }
 },
 "nbformat": 4,
 "nbformat_minor": 2
}
